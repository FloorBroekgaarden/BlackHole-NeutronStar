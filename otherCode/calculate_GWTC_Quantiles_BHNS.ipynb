{
 "cells": [
  {
   "cell_type": "code",
   "execution_count": 4,
   "metadata": {},
   "outputs": [
    {
     "name": "stdout",
     "output_type": "stream",
     "text": [
      "0.9.1\n"
     ]
    }
   ],
   "source": [
    "import numpy as np\n",
    "import matplotlib.pyplot as plt\n",
    "import h5py as h5\n",
    "import time\n",
    "import sys\n",
    "import copy\n",
    "#Quick fudge to make import from ../Scripts work\n",
    "import sys\n",
    "sys.path.append('../Scripts')\n",
    "\n",
    "\n",
    "\n",
    "# used for weighted percentiles.  \n",
    "from PostProcessingScripts import * \n",
    "import pandas as pd\n",
    "\n",
    "\n",
    "# from IPython.core.display import display, HTML\n",
    "# display(HTML(\"<style>.container { width:100% !important; }</style>\"))\n",
    "\n",
    "\n",
    "%matplotlib inline\n",
    "import pesummary\n",
    "from pesummary.io import read\n",
    "print(pesummary.__version__)\n",
    "import h5py\n",
    "# %config InlineBackend.figure_format = 'retina'\n",
    "\n"
   ]
  },
  {
   "cell_type": "markdown",
   "metadata": {},
   "source": [
    "##   code to create csv files with credible intervals possible GWTC-2 BHNS detections\n",
    "To make this original code work, you will have to download the hdf5 files from the GWTC-2 catalog that belongs to https://arxiv.org/abs/2010.14527\n",
    "This script just creates csv files that summarize the credible intervals of interest for the possible BHNS binaries from GWTC-2. It is probably the most easiest to directly use those CSV files. \n",
    "\n",
    "The GWTC-2 data is available from https://dcc.ligo.org/LIGO-P2000223/public "
   ]
  },
  {
   "cell_type": "code",
   "execution_count": 5,
   "metadata": {},
   "outputs": [],
   "source": [
    "\n",
    "\n",
    "\n",
    "\n",
    "BHNSsGWTC2 = ['GW190425', 'GW190814', 'GW190426_152155'] \n",
    "\n",
    "def obtainGWTC1_MassAndWeight(dirGWTC='/Volumes/Andromeda/GWTC-1_LVK_catalog/GWTC-2_sample_release/', dfCSVname='/Users/floorbroekgaarden/Projects/BlackHole-NeutronStar/csvFiles/GWTC_Quantiles/'):\n",
    "    \n",
    "    print('calculating credible intervals for possible GWTC-2 BHNS systems')\n",
    "    for ind_BHNS, BHNS_ in enumerate(BHNSsGWTC2):\n",
    "        print(BHNS_)\n",
    "        BHNS_file = dirGWTC + BHNS_ +'_comoving.h5'\n",
    "        BHNS = h5.File(BHNS_file, 'r')\n",
    "\n",
    "        data = read(BHNS_file)\n",
    "        samples_dict = data.samples_dict\n",
    "        posterior_samples = samples_dict['PublicationSamples']\n",
    "        parameters = sorted(list(posterior_samples.keys()))\n",
    "\n",
    "        mass_1_source = posterior_samples['mass_1_source']\n",
    "        mass_2_source = posterior_samples['mass_2_source']\n",
    "        total_mass_source = posterior_samples['total_mass_source']\n",
    "        chirp_mass_source= posterior_samples['chirp_mass_source']\n",
    "        # our mass ratio is defined the other way around\n",
    "        symmetric_mass_ratio= 1./posterior_samples['symmetric_mass_ratio']\n",
    "\n",
    "\n",
    "\n",
    "        # prepare DataFrame \n",
    "        xvarHeaders = ['mass_1_source', 'mass_2_source', \\\n",
    "                        'total_mass_source', 'chirp_mass_source', 'symmetric_mass_ratio']\n",
    "\n",
    "        xvarUnits = ['Msun', 'Msun', 'Msun', 'Msun', '#']\n",
    "\n",
    "        # quantiles that I want to know\n",
    "        y_quantiles  =          [ 0.005, 0.05,   0.5,    0.95,  0.995]\n",
    "        indexnames   = ['unit', '0.005', '0.05',  '0.5',  '0.95', '0.995']\n",
    "        # nr of rows and columns that will be used:\n",
    "        ncol_var = len(xvarHeaders)   \n",
    "        ncol_Rate_det = 1\n",
    "\n",
    "        nrows = len(y_quantiles) + 1 # +1 for units (see below)\n",
    "        # store variables, and Observed and intrinsic rates for all MSSFR variations:\n",
    "        ncol = ncol_var #* (ncol_MSSFR) # for each MSSFR I want to give quantiles for each xparam \n",
    "        df_placeholder = np.zeros((nrows, ncol)) # will be filled in loop: \n",
    "\n",
    "        headernames=[]\n",
    "        units=[]\n",
    "        for ind_s, ss in enumerate(xvarHeaders):\n",
    "            sss = ss \n",
    "            headernames.append(sss)\n",
    "            units.append(xvarUnits[ind_s])\n",
    "\n",
    "        # store dataFrame with zeros that we will fill on the go:\n",
    "        dfw = pd.DataFrame(data=df_placeholder, columns=headernames, index=indexnames)   \n",
    "        # add units at first row (index=0)\n",
    "        dfw.iloc[0]=units        \n",
    "\n",
    "\n",
    "\n",
    "        # obtain BH and NS masses from combining GW posteriors.\n",
    "        # by definition LIGO gives Most massive and least massive. \n",
    "        xvarlist = [mass_1_source, mass_2_source, total_mass_source, chirp_mass_source, symmetric_mass_ratio]\n",
    "\n",
    "\n",
    "        # calculate quantiles with bootstrapping (if Nrepeats>1)\n",
    "        for ind_xvar, xvar in enumerate(xvarlist):\n",
    "\n",
    "\n",
    "                # calculate quantiles (credible intervals) from data \n",
    "                xvar_quantiles = weighted_quantile(values=xvar, quantiles=y_quantiles, \\\n",
    "                     sample_weight=np.ones_like(xvar))\n",
    "\n",
    "                dfw_key = xvarHeaders[ind_xvar] \n",
    "                dfw[dfw_key][1:] = xvar_quantiles\n",
    "\n",
    "\n",
    "        dfCSVname_ = dfCSVname + 'CredibleIntervals_' + BHNS_  + '.csv' \n",
    "        dfw.to_csv(dfCSVname_) \n",
    "\n",
    "\n",
    "        print()\n",
    "    print('finished')\n",
    "\n",
    "\n",
    "\n",
    "      \n",
    "    return"
   ]
  },
  {
   "cell_type": "code",
   "execution_count": 6,
   "metadata": {},
   "outputs": [
    {
     "name": "stdout",
     "output_type": "stream",
     "text": [
      "calculating credible intervals for possible GWTC-2 BHNS systems\n",
      "GW190425\n",
      "\n",
      "GW190814\n",
      "\n",
      "GW190426_152155\n",
      "\n",
      "finished\n"
     ]
    }
   ],
   "source": [
    "obtainGWTC1_MassAndWeight(dirGWTC='/Volumes/Andromeda/GWTC-1_LVK_catalog/GWTC-2_sample_release/', dfCSVname='/Users/floorbroekgaarden/Projects/BlackHole-NeutronStar/csvFiles/GWTC_Quantiles/')"
   ]
  },
  {
   "cell_type": "code",
   "execution_count": null,
   "metadata": {},
   "outputs": [],
   "source": []
  },
  {
   "cell_type": "code",
   "execution_count": null,
   "metadata": {},
   "outputs": [],
   "source": []
  }
 ],
 "metadata": {
  "kernelspec": {
   "display_name": "Python 3",
   "language": "python",
   "name": "python3"
  },
  "language_info": {
   "codemirror_mode": {
    "name": "ipython",
    "version": 3
   },
   "file_extension": ".py",
   "mimetype": "text/x-python",
   "name": "python",
   "nbconvert_exporter": "python",
   "pygments_lexer": "ipython3",
   "version": "3.7.4"
  }
 },
 "nbformat": 4,
 "nbformat_minor": 2
}
